{
  "nbformat": 4,
  "nbformat_minor": 0,
  "metadata": {
    "colab": {
      "provenance": [],
      "authorship_tag": "ABX9TyM7LHPO4UYEIAQL6qrYFGAP",
      "include_colab_link": true
    },
    "kernelspec": {
      "name": "python3",
      "display_name": "Python 3"
    },
    "language_info": {
      "name": "python"
    }
  },
  "cells": [
    {
      "cell_type": "markdown",
      "metadata": {
        "id": "view-in-github",
        "colab_type": "text"
      },
      "source": [
        "<a href=\"https://colab.research.google.com/github/Saauirr/KalmanPyQt/blob/master/TZ-1.ipynb\" target=\"_parent\"><img src=\"https://colab.research.google.com/assets/colab-badge.svg\" alt=\"Open In Colab\"/></a>"
      ]
    },
    {
      "cell_type": "code",
      "execution_count": 3,
      "metadata": {
        "colab": {
          "base_uri": "https://localhost:8080/"
        },
        "id": "tYRZWKl_UTCQ",
        "outputId": "1530a7a4-ae27-444f-a12c-aa85f89558f5"
      },
      "outputs": [
        {
          "output_type": "stream",
          "name": "stderr",
          "text": [
            "ERROR:root:Ошибка аутентификации: 405 Client Error: Method Not Allowed for url: https://example.com/login\n",
            "ERROR:root:Общая ошибка: 405 Client Error: Method Not Allowed for url: https://example.com/login\n"
          ]
        }
      ],
      "source": [
        "# Для выполнения данного технического задания можно использовать Python с библиотеками `requests`, `pandas`, и `logging`. Ниже представлен примерный скрипт, который охватывает все этапы:\n",
        "\n",
        "import requests\n",
        "from bs4 import BeautifulSoup\n",
        "import pandas as pd\n",
        "import os\n",
        "import logging\n",
        "\n",
        "# Настройка логирования\n",
        "logging.basicConfig(filename='script.log', level=logging.INFO,\n",
        "                    format='%(asctime)s - %(levelname)s - %(message)s')\n",
        "\n",
        "# Функция для аутентификации\n",
        "def authenticate(url, username, password):\n",
        "    session = requests.Session()\n",
        "    try:\n",
        "        payload = {\n",
        "            'username': username,\n",
        "            'password': password\n",
        "        }\n",
        "        response = session.post(url, data=payload)\n",
        "        response.raise_for_status()\n",
        "        logging.info('Аутентификация прошла успешно.')\n",
        "        return session\n",
        "    except Exception as e:\n",
        "        logging.error(f'Ошибка аутентификации: {e}')\n",
        "        raise\n",
        "\n",
        "# Функция для навигации и скачивания файла\n",
        "def download_latest_file(session, file_page_url, download_folder):\n",
        "    try:\n",
        "        response = session.get(file_page_url)\n",
        "        response.raise_for_status()\n",
        "\n",
        "        soup = BeautifulSoup(response.content, 'html.parser')\n",
        "        # Здесь нужно указать правильный селектор для поиска файла\n",
        "        files = soup.find_all('a', class_='download-link')\n",
        "\n",
        "        latest_file = files[0]  # Предполагаем, что первый файл — последний загруженный\n",
        "        file_url = latest_file['href']\n",
        "        file_name = latest_file.text.strip()\n",
        "\n",
        "        file_response = session.get(file_url)\n",
        "        file_path = os.path.join(download_folder, file_name)\n",
        "\n",
        "        with open(file_path, 'wb') as f:\n",
        "            f.write(file_response.content)\n",
        "\n",
        "        logging.info(f'Файл {file_name} успешно скачан.')\n",
        "        return file_path\n",
        "    except Exception as e:\n",
        "        logging.error(f'Ошибка при скачивании файла: {e}')\n",
        "        raise\n",
        "\n",
        "# Функция для обработки файла\n",
        "def process_file(file_path):\n",
        "    try:\n",
        "        df = pd.read_csv(file_path)  # Укажите формат файла, если необходимо\n",
        "        # Извлечение определенных колонок (например, 'column1' и 'column2')\n",
        "        df_filtered = df[['column1', 'column2']]\n",
        "\n",
        "        # Очистка и трансформация данных\n",
        "        df_filtered.dropna(inplace=True)  # Пример очистки от NaN значений\n",
        "\n",
        "        logging.info('Файл успешно обработан.')\n",
        "        return df_filtered\n",
        "    except Exception as e:\n",
        "        logging.error(f'Ошибка при обработке файла: {e}')\n",
        "        raise\n",
        "\n",
        "# Основная функция\n",
        "def main():\n",
        "    url = 'https://example.com/login'\n",
        "    file_page_url = 'https://example.com/files'\n",
        "    download_folder = 'downloads'\n",
        "\n",
        "    if not os.path.exists(download_folder):\n",
        "        os.makedirs(download_folder)\n",
        "\n",
        "    try:\n",
        "        session = authenticate(url, 'your_username', 'your_password')\n",
        "        file_path = download_latest_file(session, file_page_url, download_folder)\n",
        "\n",
        "        if os.path.exists(file_path) and os.path.getsize(file_path) > 0:\n",
        "            df = process_file(file_path)\n",
        "            logging.info('Скрипт выполнен успешно.')\n",
        "        else:\n",
        "            logging.error('Файл не был загружен или он пуст.')\n",
        "    except Exception as e:\n",
        "        logging.error(f'Общая ошибка: {e}')\n",
        "\n",
        "if __name__ == \"__main__\":\n",
        "    main()\n",
        "### Пояснения:\n",
        "#1. **Аутентификация**: Используется `requests` для отправки POST-запроса с логином и паролем.\n",
        "#2. **Навигация и скачивание**: Скачивание последнего файла с помощью BeautifulSoup для парсинга HTML.\n",
        "#3. **Обработка файла**: Чтение файла с помощью `pandas`, извлечение нужных колонок и их очистка.\n",
        "#4. **Логирование**: Все действия записываются в файл логов.\n",
        "#5. **Обработка исключений**: Ошибки обрабатываются на каждом этапе с логированием.\n",
        "\n",
        "### Зависимости:\n",
        "#Не забудьте установить необходимые библиотеки:\n",
        "\n",
        "# pip install requests beautifulsoup4 pandas\n",
        "\n",
        "\n",
        "#Этот скрипт можно адаптировать под конкретные требования и структуры сайта."
      ]
    }
  ]
}