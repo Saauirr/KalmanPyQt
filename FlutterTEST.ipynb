{
  "nbformat": 4,
  "nbformat_minor": 0,
  "metadata": {
    "colab": {
      "provenance": [],
      "authorship_tag": "ABX9TyMOUQIMR35C6gbccjhxTSVc",
      "include_colab_link": true
    },
    "kernelspec": {
      "name": "python3",
      "display_name": "Python 3"
    },
    "language_info": {
      "name": "python"
    }
  },
  "cells": [
    {
      "cell_type": "markdown",
      "metadata": {
        "id": "view-in-github",
        "colab_type": "text"
      },
      "source": [
        "<a href=\"https://colab.research.google.com/github/Saauirr/KalmanPyQt/blob/master/FlutterTEST.ipynb\" target=\"_parent\"><img src=\"https://colab.research.google.com/assets/colab-badge.svg\" alt=\"Open In Colab\"/></a>"
      ]
    },
    {
      "cell_type": "markdown",
      "source": [
        "Backend (Python Flask)"
      ],
      "metadata": {
        "id": "dI30Kdg87JYm"
      }
    },
    {
      "cell_type": "code",
      "execution_count": null,
      "metadata": {
        "id": "Wd_wtQ4C7C-0"
      },
      "outputs": [],
      "source": [
        "# app.py\n",
        "from flask import Flask, request, jsonify\n",
        "import sqlite3\n",
        "\n",
        "app = Flask(__name__)\n",
        "\n",
        "def init_db():\n",
        "    conn = sqlite3.connect('database.db')\n",
        "    c = conn.cursor()\n",
        "    c.execute('''CREATE TABLE IF NOT EXISTS items\n",
        "                 (id INTEGER PRIMARY KEY, name TEXT, value REAL)''')\n",
        "    conn.commit()\n",
        "    conn.close()\n",
        "\n",
        "@app.route('/items', methods=['GET'])\n",
        "def get_items():\n",
        "    conn = sqlite3.connect('database.db')\n",
        "    c = conn.cursor()\n",
        "    c.execute('SELECT * FROM items')\n",
        "    items = c.fetchall()\n",
        "    conn.close()\n",
        "    return jsonify(items)\n",
        "\n",
        "@app.route('/items', methods=['POST'])\n",
        "def add_item():\n",
        "    new_item = request.get_json()\n",
        "    name = new_item['name']\n",
        "    value = new_item['value']\n",
        "    conn = sqlite3.connect('database.db')\n",
        "    c = conn.cursor()\n",
        "    c.execute('INSERT INTO items (name, value) VALUES (?, ?)', (name, value))\n",
        "    conn.commit()\n",
        "    conn.close()\n",
        "    return jsonify({\"status\": \"success\"}), 201\n",
        "\n",
        "@app.route('/items/<int:item_id>', methods=['PUT'])\n",
        "def update_item(item_id):\n",
        "    updated_item = request.get_json()\n",
        "    name = updated_item['name']\n",
        "    value = updated_item['value']\n",
        "    conn = sqlite3.connect('database.db')\n",
        "    c = conn.cursor()\n",
        "    c.execute('UPDATE items SET name = ?, value = ? WHERE id = ?', (name, value, item_id))\n",
        "    conn.commit()\n",
        "    conn.close()\n",
        "    return jsonify({\"status\": \"success\"})\n",
        "\n",
        "@app.route('/items/<int:item_id>', methods=['DELETE'])\n",
        "def delete_item(item_id):\n",
        "    conn = sqlite3.connect('database.db')\n",
        "    c = conn.cursor()\n",
        "    c.execute('DELETE FROM items WHERE id = ?', (item_id,))\n",
        "    conn.commit()\n",
        "    conn.close()\n",
        "    return jsonify({\"status\": \"success\"})\n",
        "\n",
        "if __name__ == '__main__':\n",
        "    init_db()\n",
        "    app.run(debug=True)\n"
      ]
    },
    {
      "cell_type": "markdown",
      "source": [
        "Frontend (Flutter)"
      ],
      "metadata": {
        "id": "1zsO8Bru7NfC"
      }
    },
    {
      "cell_type": "code",
      "source": [
        "// main.dart\n",
        "import 'package:flutter/material.dart';\n",
        "import 'dart:convert';\n",
        "import 'package:http/http.dart' as http;\n",
        "\n",
        "void main() => runApp(MyApp());\n",
        "\n",
        "class MyApp extends StatelessWidget {\n",
        "  @override\n",
        "  Widget build(BuildContext context) {\n",
        "    return MaterialApp(\n",
        "      title: 'Flutter + Flask Demo',\n",
        "      theme: ThemeData(\n",
        "        primarySwatch: Colors.blue,\n",
        "      ),\n",
        "      home: ItemListPage(),\n",
        "    );\n",
        "  }\n",
        "}\n",
        "\n",
        "class ItemListPage extends StatefulWidget {\n",
        "  @override\n",
        "  _ItemListPageState createState() => _ItemListPageState();\n",
        "}\n",
        "\n",
        "class _ItemListPageState extends State<ItemListPage> {\n",
        "  List items = [];\n",
        "\n",
        "  @override\n",
        "  void initState() {\n",
        "    super.initState();\n",
        "    fetchItems();\n",
        "  }\n",
        "\n",
        "  fetchItems() async {\n",
        "    final response = await http.get(Uri.parse('http://127.0.0.1:5000/items'));\n",
        "    if (response.statusCode == 200) {\n",
        "      setState(() {\n",
        "        items = json.decode(response.body);\n",
        "      });\n",
        "    } else {\n",
        "      throw Exception('Failed to load items');\n",
        "    }\n",
        "  }\n",
        "\n",
        "  addItem(String name, double value) async {\n",
        "    final response = await http.post(\n",
        "      Uri.parse('http://127.0.0.1:5000/items'),\n",
        "      headers: <String, String>{\n",
        "        'Content-Type': 'application/json; charset=UTF-8',\n",
        "      },\n",
        "      body: jsonEncode(<String, dynamic>{\n",
        "        'name': name,\n",
        "        'value': value,\n",
        "      }),\n",
        "    );\n",
        "    if (response.statusCode == 201) {\n",
        "      fetchItems();\n",
        "    } else {\n",
        "      throw Exception('Failed to add item');\n",
        "    }\n",
        "  }\n",
        "\n",
        "  updateItem(int id, String name, double value) async {\n",
        "    final response = await http.put(\n",
        "      Uri.parse('http://127.0.0.1:5000/items/$id'),\n",
        "      headers: <String, String>{\n",
        "        'Content-Type': 'application/json; charset=UTF-8',\n",
        "      },\n",
        "      body: jsonEncode(<String, dynamic>{\n",
        "        'name': name,\n",
        "        'value': value,\n",
        "      }),\n",
        "    );\n",
        "    if (response.statusCode == 200) {\n",
        "      fetchItems();\n",
        "    } else {\n",
        "      throw Exception('Failed to update item');\n",
        "    }\n",
        "  }\n",
        "\n",
        "  deleteItem(int id) async {\n",
        "    final response = await http.delete(\n",
        "      Uri.parse('http://127.0.0.1:5000/items/$id'),\n",
        "    );\n",
        "    if (response.statusCode == 200) {\n",
        "      fetchItems();\n",
        "    } else {\n",
        "      throw Exception('Failed to delete item');\n",
        "    }\n",
        "  }\n",
        "\n",
        "  @override\n",
        "  Widget build(BuildContext context) {\n",
        "    return Scaffold(\n",
        "      appBar: AppBar(\n",
        "        title: Text('Item List'),\n",
        "      ),\n",
        "      body: ListView.builder(\n",
        "        itemCount: items.length,\n",
        "        itemBuilder: (context, index) {\n",
        "          final item = items[index];\n",
        "          return ListTile(\n",
        "            title: Text(item[1]),\n",
        "            subtitle: Text(item[2].toString()),\n",
        "            trailing: Row(\n",
        "              mainAxisSize: MainAxisSize.min,\n",
        "              children: <Widget>[\n",
        "                IconButton(\n",
        "                  icon: Icon(Icons.edit),\n",
        "                  onPressed: () {\n",
        "                    // Update item code here\n",
        "                  },\n",
        "                ),\n",
        "                IconButton(\n",
        "                  icon: Icon(Icons.delete),\n",
        "                  onPressed: () {\n",
        "                    deleteItem(item[0]);\n",
        "                  },\n",
        "                ),\n",
        "              ],\n",
        "            ),\n",
        "          );\n",
        "        },\n",
        "      ),\n",
        "      floatingActionButton: FloatingActionButton(\n",
        "        onPressed: () {\n",
        "          // Add item code here\n",
        "        },\n",
        "        child: Icon(Icons.add),\n",
        "      ),\n",
        "    );\n",
        "  }\n",
        "}\n"
      ],
      "metadata": {
        "id": "EP6R-dRP7Is4"
      },
      "execution_count": null,
      "outputs": []
    },
    {
      "cell_type": "markdown",
      "source": [
        "Объяснение\n",
        "\n",
        "    Backend (Flask):\n",
        "        Инициализация базы данных SQLite.\n",
        "        Реализация CRUD операций (создание, чтение, обновление, удаление) через HTTP API.\n",
        "\n",
        "    Frontend (Flutter):\n",
        "        Приложение на Flutter с запросами к Flask API для выполнения CRUD операций.\n",
        "        Интерфейс для отображения списка элементов и выполнения действий (добавление, редактирование, удаление)."
      ],
      "metadata": {
        "id": "ABGfBCQD7TGg"
      }
    },
    {
      "cell_type": "markdown",
      "source": [
        "Установка необходимых библиотек"
      ],
      "metadata": {
        "id": "4MHJHXf5T6dH"
      }
    },
    {
      "cell_type": "code",
      "source": [
        "pip install Appium-Python-Client selenium\n"
      ],
      "metadata": {
        "colab": {
          "base_uri": "https://localhost:8080/"
        },
        "id": "iOgFjuMfT5p5",
        "outputId": "2954eca7-f172-4cdd-bbb2-379edb037b9b"
      },
      "execution_count": 3,
      "outputs": [
        {
          "output_type": "stream",
          "name": "stdout",
          "text": [
            "Collecting Appium-Python-Client\n",
            "  Downloading appium_python_client-4.0.1.tar.gz (120 kB)\n",
            "\u001b[?25l     \u001b[90m━━━━━━━━━━━━━━━━━━━━━━━━━━━━━━━━━━━━━━━━\u001b[0m \u001b[32m0.0/120.8 kB\u001b[0m \u001b[31m?\u001b[0m eta \u001b[36m-:--:--\u001b[0m\r\u001b[2K     \u001b[91m━━━━━━━━━━━━━━━━━━━━━━━━━━━━━━━━━━━━━\u001b[0m\u001b[90m╺\u001b[0m\u001b[90m━━\u001b[0m \u001b[32m112.6/120.8 kB\u001b[0m \u001b[31m4.5 MB/s\u001b[0m eta \u001b[36m0:00:01\u001b[0m\r\u001b[2K     \u001b[90m━━━━━━━━━━━━━━━━━━━━━━━━━━━━━━━━━━━━━━━━\u001b[0m \u001b[32m120.8/120.8 kB\u001b[0m \u001b[31m3.0 MB/s\u001b[0m eta \u001b[36m0:00:00\u001b[0m\n",
            "\u001b[?25h  Preparing metadata (setup.py) ... \u001b[?25l\u001b[?25hdone\n",
            "Collecting selenium\n",
            "  Downloading selenium-4.23.1-py3-none-any.whl.metadata (7.1 kB)\n",
            "Requirement already satisfied: urllib3<3,>=1.26 in /usr/local/lib/python3.10/dist-packages (from urllib3[socks]<3,>=1.26->selenium) (2.0.7)\n",
            "Collecting trio~=0.17 (from selenium)\n",
            "  Downloading trio-0.26.0-py3-none-any.whl.metadata (8.8 kB)\n",
            "Collecting trio-websocket~=0.9 (from selenium)\n",
            "  Downloading trio_websocket-0.11.1-py3-none-any.whl.metadata (4.7 kB)\n",
            "Requirement already satisfied: certifi>=2021.10.8 in /usr/local/lib/python3.10/dist-packages (from selenium) (2024.7.4)\n",
            "Requirement already satisfied: typing_extensions~=4.9 in /usr/local/lib/python3.10/dist-packages (from selenium) (4.12.2)\n",
            "Requirement already satisfied: websocket-client~=1.8 in /usr/local/lib/python3.10/dist-packages (from selenium) (1.8.0)\n",
            "Requirement already satisfied: attrs>=23.2.0 in /usr/local/lib/python3.10/dist-packages (from trio~=0.17->selenium) (23.2.0)\n",
            "Requirement already satisfied: sortedcontainers in /usr/local/lib/python3.10/dist-packages (from trio~=0.17->selenium) (2.4.0)\n",
            "Requirement already satisfied: idna in /usr/local/lib/python3.10/dist-packages (from trio~=0.17->selenium) (3.7)\n",
            "Collecting outcome (from trio~=0.17->selenium)\n",
            "  Downloading outcome-1.3.0.post0-py2.py3-none-any.whl.metadata (2.6 kB)\n",
            "Requirement already satisfied: sniffio>=1.3.0 in /usr/local/lib/python3.10/dist-packages (from trio~=0.17->selenium) (1.3.1)\n",
            "Requirement already satisfied: exceptiongroup in /usr/local/lib/python3.10/dist-packages (from trio~=0.17->selenium) (1.2.2)\n",
            "Collecting wsproto>=0.14 (from trio-websocket~=0.9->selenium)\n",
            "  Downloading wsproto-1.2.0-py3-none-any.whl.metadata (5.6 kB)\n",
            "Requirement already satisfied: pysocks!=1.5.7,<2.0,>=1.5.6 in /usr/local/lib/python3.10/dist-packages (from urllib3[socks]<3,>=1.26->selenium) (1.7.1)\n",
            "Collecting h11<1,>=0.9.0 (from wsproto>=0.14->trio-websocket~=0.9->selenium)\n",
            "  Downloading h11-0.14.0-py3-none-any.whl.metadata (8.2 kB)\n",
            "Downloading selenium-4.23.1-py3-none-any.whl (9.4 MB)\n",
            "\u001b[2K   \u001b[90m━━━━━━━━━━━━━━━━━━━━━━━━━━━━━━━━━━━━━━━━\u001b[0m \u001b[32m9.4/9.4 MB\u001b[0m \u001b[31m64.9 MB/s\u001b[0m eta \u001b[36m0:00:00\u001b[0m\n",
            "\u001b[?25hDownloading trio-0.26.0-py3-none-any.whl (475 kB)\n",
            "\u001b[2K   \u001b[90m━━━━━━━━━━━━━━━━━━━━━━━━━━━━━━━━━━━━━━━━\u001b[0m \u001b[32m475.7/475.7 kB\u001b[0m \u001b[31m26.5 MB/s\u001b[0m eta \u001b[36m0:00:00\u001b[0m\n",
            "\u001b[?25hDownloading trio_websocket-0.11.1-py3-none-any.whl (17 kB)\n",
            "Downloading wsproto-1.2.0-py3-none-any.whl (24 kB)\n",
            "Downloading outcome-1.3.0.post0-py2.py3-none-any.whl (10 kB)\n",
            "Downloading h11-0.14.0-py3-none-any.whl (58 kB)\n",
            "\u001b[2K   \u001b[90m━━━━━━━━━━━━━━━━━━━━━━━━━━━━━━━━━━━━━━━━\u001b[0m \u001b[32m58.3/58.3 kB\u001b[0m \u001b[31m4.6 MB/s\u001b[0m eta \u001b[36m0:00:00\u001b[0m\n",
            "\u001b[?25hBuilding wheels for collected packages: Appium-Python-Client\n",
            "  Building wheel for Appium-Python-Client (setup.py) ... \u001b[?25l\u001b[?25hdone\n",
            "  Created wheel for Appium-Python-Client: filename=Appium_Python_Client-4.0.1-py3-none-any.whl size=334131 sha256=66a62082e260cb0e90459cbc4a0156d281c048525d4962cfe774d77bc2b29352\n",
            "  Stored in directory: /root/.cache/pip/wheels/73/02/66/8492ed5697304ec158a02b5d885050169899e8119f917b8780\n",
            "Successfully built Appium-Python-Client\n",
            "Installing collected packages: outcome, h11, wsproto, trio, trio-websocket, selenium, Appium-Python-Client\n",
            "Successfully installed Appium-Python-Client-4.0.1 h11-0.14.0 outcome-1.3.0.post0 selenium-4.23.1 trio-0.26.0 trio-websocket-0.11.1 wsproto-1.2.0\n"
          ]
        }
      ]
    },
    {
      "cell_type": "markdown",
      "source": [
        "Настройка Appium сервера"
      ],
      "metadata": {
        "id": "2G8iHVFFUzzE"
      }
    },
    {
      "cell_type": "code",
      "source": [
        "npm install -g appium\n"
      ],
      "metadata": {
        "id": "7cYtvZEIUrNP"
      },
      "execution_count": null,
      "outputs": []
    },
    {
      "cell_type": "markdown",
      "source": [
        "Запуск сервер:"
      ],
      "metadata": {
        "id": "SP8MBuI3U4k-"
      }
    },
    {
      "cell_type": "code",
      "source": [
        "appium\n"
      ],
      "metadata": {
        "id": "KFndsBFLU8vw"
      },
      "execution_count": null,
      "outputs": []
    },
    {
      "cell_type": "markdown",
      "source": [
        "Настройка Desired Capabilities"
      ],
      "metadata": {
        "id": "-rAXpKaDU_GA"
      }
    },
    {
      "cell_type": "markdown",
      "source": [
        "Пример для Android:"
      ],
      "metadata": {
        "id": "IkW06X0FVBb1"
      }
    },
    {
      "cell_type": "code",
      "source": [
        "desired_caps = {\n",
        "    'platformName': 'Android',\n",
        "    'platformVersion': '10.0',        # Версия Android\n",
        "    'deviceName': 'Android Emulator',  # Имя устройства\n",
        "    'appPackage': 'com.example.myapp', # Пакет приложения\n",
        "    'appActivity': '.MainActivity',    # Главная активность\n",
        "    'automationName': 'UiAutomator2'   # Автоматизационный фреймворк\n",
        "}\n"
      ],
      "metadata": {
        "id": "HQ58tx2PU-RZ"
      },
      "execution_count": null,
      "outputs": []
    },
    {
      "cell_type": "markdown",
      "source": [
        "Пример для iOS:"
      ],
      "metadata": {
        "id": "hweXJBLVVERM"
      }
    },
    {
      "cell_type": "code",
      "source": [
        "desired_caps = {\n",
        "    'platformName': 'iOS',\n",
        "    'platformVersion': '14.0',         # Версия iOS\n",
        "    'deviceName': 'iPhone Simulator',  # Имя устройства\n",
        "    'app': '/path/to/myapp.app',        # Путь к приложению\n",
        "    'automationName': 'XCUITest'        # Автоматизационный фреймворк\n",
        "}\n"
      ],
      "metadata": {
        "id": "c1lDQgiaVH_J"
      },
      "execution_count": null,
      "outputs": []
    },
    {
      "cell_type": "markdown",
      "source": [
        "Написание теста"
      ],
      "metadata": {
        "id": "3QYDkZkTVJjG"
      }
    },
    {
      "cell_type": "code",
      "source": [
        "from appium import webdriver\n",
        "from appium.webdriver.common.mobileby import MobileBy\n",
        "from appium.webdriver.common.touch_action import TouchAction\n",
        "import unittest\n",
        "\n",
        "class MyAppTests(unittest.TestCase):\n",
        "    def setUp(self):\n",
        "        desired_caps = {\n",
        "            'platformName': 'Android',\n",
        "            'platformVersion': '10.0',\n",
        "            'deviceName': 'Android Emulator',\n",
        "            'appPackage': 'com.example.myapp',\n",
        "            'appActivity': '.MainActivity',\n",
        "            'automationName': 'UiAutomator2'\n",
        "        }\n",
        "\n",
        "        self.driver = webdriver.Remote('http://localhost:4723/wd/hub', desired_caps)\n",
        "\n",
        "    def test_button_click(self):\n",
        "        # Найти кнопку по идентификатору и нажать на нее\n",
        "        button = self.driver.find_element(MobileBy.ID, 'com.example.myapp:id/my_button')\n",
        "        button.click()\n",
        "\n",
        "        # Проверить результат\n",
        "        result_text = self.driver.find_element(MobileBy.ID, 'com.example.myapp:id/result_text').text\n",
        "        self.assertEqual(result_text, 'Expected Result')\n",
        "\n",
        "    def tearDown(self):\n",
        "        self.driver.quit()\n",
        "\n",
        "if __name__ == '__main__':\n",
        "    unittest.main()\n"
      ],
      "metadata": {
        "id": "TE72krAvVMC3"
      },
      "execution_count": null,
      "outputs": []
    },
    {
      "cell_type": "markdown",
      "source": [
        "Запуск теста"
      ],
      "metadata": {
        "id": "X89wLCErVNtz"
      }
    },
    {
      "cell_type": "code",
      "source": [
        "python my_test_script.py\n"
      ],
      "metadata": {
        "id": "Q7HVlLqIVPCy"
      },
      "execution_count": null,
      "outputs": []
    }
  ]
}